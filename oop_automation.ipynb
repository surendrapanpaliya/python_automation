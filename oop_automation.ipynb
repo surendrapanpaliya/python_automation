{
 "cells": [
  {
   "cell_type": "code",
   "execution_count": 4,
   "metadata": {},
   "outputs": [],
   "source": [
    "#pip install selenium\n",
    "\n",
    "import selenium"
   ]
  },
  {
   "cell_type": "code",
   "execution_count": 5,
   "metadata": {},
   "outputs": [
    {
     "name": "stdout",
     "output_type": "stream",
     "text": [
      "['training@gktcs.com', 'surendra@gktcs.com', 'john.wilson@gktcs.com', 'john.wilson@gktcs.com', 'surendra@gktcs.com', 'surendra@gktcs.com']\n"
     ]
    }
   ],
   "source": [
    "from selenium import webdriver\n",
    "import re\n",
    "driver = webdriver.Chrome()\n",
    "driver.get(\"https://gktcs.com\")\n",
    "\n",
    "page_source = driver.page_source\n",
    "pattern = r'\\b[A-Za-z0-9._%+-]+@[A-Za-z0-9.-]+\\.[A-Z|a-z]{2,}\\b'\n",
    "\n",
    "emails = re.findall(pattern, page_source)\n",
    "print(emails)  # Extracts email addresses from the webpage\n",
    "driver.quit()"
   ]
  }
 ],
 "metadata": {
  "kernelspec": {
   "display_name": "base",
   "language": "python",
   "name": "python3"
  },
  "language_info": {
   "codemirror_mode": {
    "name": "ipython",
    "version": 3
   },
   "file_extension": ".py",
   "mimetype": "text/x-python",
   "name": "python",
   "nbconvert_exporter": "python",
   "pygments_lexer": "ipython3",
   "version": "3.11.5"
  }
 },
 "nbformat": 4,
 "nbformat_minor": 2
}
