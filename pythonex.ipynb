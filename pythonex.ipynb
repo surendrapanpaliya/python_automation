{
 "cells": [
  {
   "cell_type": "code",
   "execution_count": 4,
   "metadata": {},
   "outputs": [
    {
     "name": "stdout",
     "output_type": "stream",
     "text": [
      "<class 'str'>\n"
     ]
    }
   ],
   "source": [
    "name = \"Surendra\"\n",
    "print(type(name))\n",
    "\n",
    "#help(str)"
   ]
  },
  {
   "cell_type": "code",
   "execution_count": 8,
   "metadata": {},
   "outputs": [
    {
     "name": "stdout",
     "output_type": "stream",
     "text": [
      "(5+10j)\n",
      "5.0\n",
      "10.0\n",
      "(5-10j)\n"
     ]
    }
   ],
   "source": [
    "data = 5 + 10j\n",
    "print(data)\n",
    "print(data.real)\n",
    "print(data.imag)\n",
    "print(data.conjugate())"
   ]
  },
  {
   "cell_type": "code",
   "execution_count": 9,
   "metadata": {},
   "outputs": [
    {
     "data": {
      "text/plain": [
       "3"
      ]
     },
     "execution_count": 9,
     "metadata": {},
     "output_type": "execute_result"
    }
   ],
   "source": [
    "True + True + True - False"
   ]
  },
  {
   "cell_type": "markdown",
   "metadata": {},
   "source": [
    "Mutable Data Stucture \n",
    "1. List \n",
    "2. Dictionary \n",
    "3. Set \n",
    "\n",
    "Immutabale :\n",
    "1. tuple \n",
    "2. Number \n",
    "3. String "
   ]
  },
  {
   "cell_type": "code",
   "execution_count": 28,
   "metadata": {},
   "outputs": [
    {
     "name": "stdout",
     "output_type": "stream",
     "text": [
      "Writing carmodule.py\n"
     ]
    }
   ],
   "source": [
    "%%writefile carmodule.py\n",
    "\n",
    "class CarApp:\n",
    "    '''Car Application For Customer'''\n",
    "\n",
    "    def __init__(self,name):\n",
    "        '''Intialisation of CarApp class'''\n",
    "        self.name = name  # object variable\n",
    "        print(\"Car Name: \",name)\n",
    "\n",
    "    def info(self):\n",
    "        '''Car Information Method'''\n",
    "        print(\"It's Audi Car\",self.name)\n",
    "\n",
    "if __name__ == '__main__':\n",
    "    AudiCar = CarApp(\"Audi Car Name\")\n",
    "    #print(AudiCar.__doc__)\n",
    "    AudiCar.info()"
   ]
  },
  {
   "cell_type": "code",
   "execution_count": 35,
   "metadata": {},
   "outputs": [
    {
     "name": "stdout",
     "output_type": "stream",
     "text": [
      "Car Name:  Audi Car Name\n",
      "It's Audi Car Audi Car Name\n",
      "It's Audi Delux Car Audi Car Name\n",
      "Delux Car Features\n"
     ]
    }
   ],
   "source": [
    "#import carmodule as cm\n",
    "\n",
    "from carmodule import CarApp\n",
    "\n",
    "class DeluxCar(CarApp):\n",
    "    '''Delux Car Inherited from CarApp'''\n",
    "    def feature(self):\n",
    "        '''Delux Car Feature'''\n",
    "        print(\"Delux Car Features\")\n",
    "\n",
    "    def info(self):\n",
    "        '''Delux Car Information Method'''\n",
    "        super().info()\n",
    "        print(\"It's Audi Delux Car\",self.name)\n",
    "\n",
    "\n",
    "if __name__ == '__main__':\n",
    "    AudiCar = DeluxCar(\"Audi Car Name\")\n",
    "    AudiCar.info()\n",
    "    AudiCar.feature()"
   ]
  },
  {
   "cell_type": "code",
   "execution_count": 43,
   "metadata": {},
   "outputs": [
    {
     "name": "stdout",
     "output_type": "stream",
     "text": [
      "re.compile('[a-z]+', re.IGNORECASE)\n",
      "Match Found welcome\n",
      "Match Start 5\n",
      "Match End 12\n",
      "Match Span (5, 12)\n"
     ]
    }
   ],
   "source": [
    "import re\n",
    "\n",
    "#help(re.match)\n",
    "\n",
    "pattern_object = re.compile('[a-z]+',re.IGNORECASE)\n",
    "\n",
    "print(pattern_object)\n",
    "\n",
    "data = \"3476 welcome to regular expression pattern\"\n",
    "\n",
    "m = pattern_object.search(data)\n",
    "\n",
    "if m:\n",
    "    print(\"Match Found\",m.group())\n",
    "    print(\"Match Start\",m.start())\n",
    "    print(\"Match End\",m.end())\n",
    "    print(\"Match Span\",m.span())\n",
    "else:\n",
    "    print(\"Match Not Found\")"
   ]
  },
  {
   "cell_type": "code",
   "execution_count": 45,
   "metadata": {},
   "outputs": [
    {
     "name": "stdout",
     "output_type": "stream",
     "text": [
      "['welcome', 'to', 'regular', 'expression', 'pattern']\n",
      "['welcome', 'to', 'regular', 'expression', 'pattern']\n"
     ]
    }
   ],
   "source": [
    "m1 = pattern_object.findall(data)\n",
    "print(m1)\n",
    "\n",
    "m2 = re.findall('[a-z]+',data,re.IGNORECASE)\n",
    "print(m2)"
   ]
  },
  {
   "cell_type": "code",
   "execution_count": 63,
   "metadata": {},
   "outputs": [
    {
     "name": "stdout",
     "output_type": "stream",
     "text": [
      "My name is Surendra and email is surendra@gktcs.com\n",
      "Mobile is 9876543210 and address is Bangalore and surendra.panpaliya@gmail.com\n",
      "Account Number is 1234567890 and IFSC Code is HDFC1234 and PAN Number is ABCDE1234F\n",
      "another mobile number is 9876543211 and address is Pune. another mobile number is\n",
      "9876543212 and address is Pune. IFSC Code is IDFC5678 10.10.10.10 ip address 192.245.200.100\n"
     ]
    }
   ],
   "source": [
    "raw_data = '''My name is Surendra and email is surendra@gktcs.com\n",
    "Mobile is 9876543210 and address is Bangalore and surendra.panpaliya@gmail.com\n",
    "Account Number is 1234567890 and IFSC Code is HDFC1234 and PAN Number is ABCDE1234F\n",
    "another mobile number is 9876543211 and address is Pune. another mobile number is\n",
    "9876543212 and address is Pune. IFSC Code is IDFC5678 10.10.10.10 ip address 192.245.200.100'''\n",
    "\n",
    "with open('mypersonal.txt','w') as file:\n",
    "    file.write(raw_data) # write data to file\n",
    "\n",
    "with open('mypersonal.txt','r') as file:\n",
    "    data = file.read() # read data from file\n",
    "    print(data)"
   ]
  },
  {
   "cell_type": "code",
   "execution_count": 78,
   "metadata": {},
   "outputs": [
    {
     "name": "stdout",
     "output_type": "stream",
     "text": [
      "['9876543210', '1234567890', '9876543211', '9876543212']\n",
      "['HDFC1234', 'IDFC5678']\n",
      "['ABCDE1234F']\n",
      "['surendra@gktcs.com', 'surendra.panpaliya@gmail.com']\n",
      "['surendra@gktcs.com', 'surendra.panpaliya@gmail.com']\n",
      "['10.10.10.10', '192.245.200.100']\n"
     ]
    }
   ],
   "source": [
    "with open('mypersonal.txt') as file:\n",
    "    data = file.read() # read data from file\n",
    "    mobile_data = re.findall(r'\\d{10}',data)\n",
    "    print(mobile_data)\n",
    "    ifsc_data = re.findall(r'\\b[A-Z]{4}\\d{4}\\b',data)\n",
    "    print(ifsc_data)\n",
    "    pan_data = re.findall(r'[A-Z]{5}\\d{4}[A-Z]',data)\n",
    "    print(pan_data)\n",
    "    email_data = re.findall(r'\\b[A-Za-z0-9._%+-]+@[A-Za-z0-9.-]+\\.[A-Z|a-z]{2,}\\b',data)\n",
    "    print(email_data)\n",
    "    email_data1 = re.findall(r'\\b[\\w._]+@[\\w]+\\.[\\w]{2,}\\b',data)\n",
    "    print(email_data1)\n",
    "    ip_address = re.findall(r'\\d{0,3}\\.\\d{0,3}\\.\\d{0,3}\\.\\d{0,3}',data)\n",
    "    print(ip_address)"
   ]
  },
  {
   "cell_type": "code",
   "execution_count": 71,
   "metadata": {},
   "outputs": [],
   "source": [
    "#!pip install pandas"
   ]
  },
  {
   "cell_type": "code",
   "execution_count": 86,
   "metadata": {},
   "outputs": [
    {
     "name": "stdout",
     "output_type": "stream",
     "text": [
      "['9876543210', '1234567890', '9876543211', '9876543212']\n",
      "{'surendra': '9876543210', 'pankaj': '1234567890', 'sachin': '9876543211', 'satish': '9876543212'}\n",
      "dict_keys(['surendra', 'pankaj', 'sachin', 'satish'])\n",
      "dict_values(['9876543210', '1234567890', '9876543211', '9876543212'])\n",
      "surendra    9876543210\n",
      "pankaj      1234567890\n",
      "sachin      9876543211\n",
      "satish      9876543212\n",
      "dtype: object\n",
      "{'surendra': '9876543210', 'pankaj': '1234567890', 'sachin': '9876543211', 'satish': '9876543212'}\n",
      "       Name Mobile Number\n",
      "0  surendra    9876543210\n",
      "1    pankaj    1234567890\n",
      "2    sachin    9876543211\n",
      "3    satish    9876543212\n"
     ]
    }
   ],
   "source": [
    "import pandas as pd\n",
    "\n",
    "mobile_series = pd.Series(mobile_data,name='Mobile Number')\n",
    "\n",
    "# print(mobile_series)\n",
    "\n",
    "print(mobile_data)\n",
    "\n",
    "mobile_dict = {}\n",
    "\n",
    "mobile_dict['surendra'] = mobile_data[0]\n",
    "mobile_dict['pankaj'] = mobile_data[1]\n",
    "mobile_dict['sachin'] = mobile_data[2]\n",
    "mobile_dict['satish'] = mobile_data[3]\n",
    "\n",
    "print(mobile_dict)\n",
    "print(mobile_dict.keys())\n",
    "print(mobile_dict.values())\n",
    "\n",
    "mobile_series1 = pd.Series(mobile_dict)\n",
    "\n",
    "print(mobile_series1)\n",
    "\n",
    "print(mobile_dict)"
   ]
  },
  {
   "cell_type": "code",
   "execution_count": 93,
   "metadata": {},
   "outputs": [
    {
     "name": "stdout",
     "output_type": "stream",
     "text": [
      "       Name Mobile Number\n",
      "0  surendra    9876543210\n",
      "1    pankaj    1234567890\n",
      "2    sachin    9876543211\n",
      "3    satish    9876543212\n",
      "0    surendra\n",
      "1      pankaj\n",
      "2      sachin\n",
      "3      satish\n",
      "Name: Name, dtype: object\n",
      "0    9876543210\n",
      "1    1234567890\n",
      "2    9876543211\n",
      "3    9876543212\n",
      "Name: Mobile Number, dtype: object\n",
      "(4, 2)\n",
      "2\n",
      "       Name  Mobile Number\n",
      "0  surendra     9876543210\n",
      "1    pankaj     1234567890\n",
      "2    sachin     9876543211\n",
      "3    satish     9876543212\n"
     ]
    }
   ],
   "source": [
    "mobile_dataframe = pd.DataFrame(mobile_dict.items(),columns=['Name','Mobile Number'])\n",
    "\n",
    "print(mobile_dataframe)\n",
    "\n",
    "print(mobile_dataframe['Name'])\n",
    "\n",
    "print(mobile_dataframe['Mobile Number'])\n",
    "\n",
    "print(mobile_dataframe.shape)\n",
    "\n",
    "print(mobile_dataframe.ndim)\n",
    "\n",
    "mobile_dataframe.to_csv('mobile.csv',index=False)   # write data to csv file\n",
    "\n",
    "mobile_dataframe1 = pd.read_csv('mobile.csv')  # read data from csv file\n",
    "\n",
    "print(mobile_dataframe1)\n"
   ]
  }
 ],
 "metadata": {
  "kernelspec": {
   "display_name": "base",
   "language": "python",
   "name": "python3"
  },
  "language_info": {
   "codemirror_mode": {
    "name": "ipython",
    "version": 3
   },
   "file_extension": ".py",
   "mimetype": "text/x-python",
   "name": "python",
   "nbconvert_exporter": "python",
   "pygments_lexer": "ipython3",
   "version": "3.11.5"
  }
 },
 "nbformat": 4,
 "nbformat_minor": 2
}
